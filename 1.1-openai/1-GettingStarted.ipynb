{
 "cells": [
  {
   "cell_type": "markdown",
   "metadata": {},
   "source": [
    "#### Getting started With Langchain And Open AI\n",
    "\n",
    "- Get setup with LangChain, LangSmith and LangServe\n",
    "- Use the most basic and common components of LangChain: prompt templates, models, and output parsers.\n",
    "- Build a simple application with LangChain\n",
    "- Trace your application with LangSmith\n",
    "- Serve your application with LangServe"
   ]
  },
  {
   "cell_type": "markdown",
   "metadata": {},
   "source": [
    "# Step 1\n",
    "\n",
    "# OpenAI\n",
    "1. Generate an API key in OpenAI #### https://platform.openai.com/settings/organization/api-keys\n",
    "2. Add this key to the .env file of your project in vscode.\n",
    "\n",
    "\n",
    "# LangChain\n",
    "1. Generate API key in LangSmith #### https://platform.openai.com/settings/organization/api-keys\n",
    "2. Paste it in the .env file of your project.\n",
    "\n",
    "###### Why do we need a LangChain API Key?\n",
    "A LangChain API key is necessary for authenticating your requests and accessing specific features and services within the LangChain ecosystem. It's a unique identifier that allows you to use various LangChain-supported Large Language Models (LLMs) and other integrations, ensuring secure and authorized access.\n",
    "Features like : Authentication, Access to LLMs, Security, Usage & Billing, Tracing & Evaluation etc.\n",
    "\n",
    "# Add LangChain Project\n",
    "1. Add LangChain project in .env file.\n",
    "\n"
   ]
  }
 ],
 "metadata": {
  "language_info": {
   "name": "python"
  }
 },
 "nbformat": 4,
 "nbformat_minor": 2
}
