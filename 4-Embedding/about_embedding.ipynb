{
 "cells": [
  {
   "cell_type": "markdown",
   "metadata": {},
   "source": [
    "## Embeddings - \n",
    "* We basically use models in embeddings. The model used to create a vector/embeddings should be the same model which we will use in inferencing.\n",
    "\n",
    "\n",
    "### Embeddings Techniques\n",
    "1. OpenAI - Embedding Models\n",
    "    We need to create an API key and store it in the .env file for further usage.\n",
    "2. Ollama - Embedding Models.\n",
    "    * You can download different models available with ollama locally in your machine and can use it. EX: Gemma3, mistral, DeepSeek-R1 and more.\n",
    "3. Huggingface - embedding Models\n",
    "    We need to create an Access Token and store it in the .env file for further usage.\n",
    "\n"
   ]
  }
 ],
 "metadata": {
  "language_info": {
   "name": "python"
  }
 },
 "nbformat": 4,
 "nbformat_minor": 2
}
